{
  "nbformat": 4,
  "nbformat_minor": 0,
  "metadata": {
    "colab": {
      "name": "Kmeans_dataset_generator.ipynb",
      "provenance": [],
      "collapsed_sections": []
    },
    "kernelspec": {
      "name": "python3",
      "display_name": "Python 3"
    }
  },
  "cells": [
    {
      "cell_type": "code",
      "metadata": {
        "id": "62fqjfvX54h0"
      },
      "source": [
        "import random \n",
        "import numpy as np \n",
        "import matplotlib.pyplot as plt\n",
        "%matplotlib inline"
      ],
      "execution_count": null,
      "outputs": []
    },
    {
      "cell_type": "code",
      "metadata": {
        "id": "WVXMAi3TI-1s",
        "colab": {
          "base_uri": "https://localhost:8080/",
          "height": 362
        },
        "outputId": "613adfc9-9129-4bd0-f208-c58553475615"
      },
      "source": [
        "!pip install -U scikit-learn"
      ],
      "execution_count": null,
      "outputs": [
        {
          "output_type": "stream",
          "text": [
            "Collecting scikit-learn\n",
            "\u001b[?25l  Downloading https://files.pythonhosted.org/packages/5c/a1/273def87037a7fb010512bbc5901c31cfddfca8080bc63b42b26e3cc55b3/scikit_learn-0.23.2-cp36-cp36m-manylinux1_x86_64.whl (6.8MB)\n",
            "\u001b[K     |████████████████████████████████| 6.8MB 5.3MB/s \n",
            "\u001b[?25hRequirement already satisfied, skipping upgrade: numpy>=1.13.3 in /usr/local/lib/python3.6/dist-packages (from scikit-learn) (1.18.5)\n",
            "Requirement already satisfied, skipping upgrade: joblib>=0.11 in /usr/local/lib/python3.6/dist-packages (from scikit-learn) (0.17.0)\n",
            "Collecting threadpoolctl>=2.0.0\n",
            "  Downloading https://files.pythonhosted.org/packages/f7/12/ec3f2e203afa394a149911729357aa48affc59c20e2c1c8297a60f33f133/threadpoolctl-2.1.0-py3-none-any.whl\n",
            "Requirement already satisfied, skipping upgrade: scipy>=0.19.1 in /usr/local/lib/python3.6/dist-packages (from scikit-learn) (1.4.1)\n",
            "Installing collected packages: threadpoolctl, scikit-learn\n",
            "  Found existing installation: scikit-learn 0.22.2.post1\n",
            "    Uninstalling scikit-learn-0.22.2.post1:\n",
            "      Successfully uninstalled scikit-learn-0.22.2.post1\n",
            "Successfully installed scikit-learn-0.23.2 threadpoolctl-2.1.0\n"
          ],
          "name": "stdout"
        },
        {
          "output_type": "display_data",
          "data": {
            "application/vnd.colab-display-data+json": {
              "pip_warning": {
                "packages": [
                  "sklearn"
                ]
              }
            }
          },
          "metadata": {
            "tags": []
          }
        }
      ]
    },
    {
      "cell_type": "code",
      "metadata": {
        "id": "Gz5GpHkjH4yG",
        "colab": {
          "base_uri": "https://localhost:8080/"
        },
        "outputId": "5e9abef7-a187-4843-bff6-1e9f628750ef"
      },
      "source": [
        "import sklearn\n",
        "print('The scikit-learn version is {}.'.format(sklearn.__version__))"
      ],
      "execution_count": null,
      "outputs": [
        {
          "output_type": "stream",
          "text": [
            "The scikit-learn version is 0.23.2.\n"
          ],
          "name": "stdout"
        }
      ]
    },
    {
      "cell_type": "code",
      "metadata": {
        "id": "8qGKSC3mJ6ey"
      },
      "source": [
        "from sklearn.datasets import make_blobs\n",
        "\n",
        "num_samples = 30000000;\n",
        "num_centers = 3\n",
        "num_features = 4\n",
        "\n",
        "features_name = \"Kmeans_features_k\" + str(num_centers) + \"_f\" + str(num_features) + \"_\" + str(num_samples) + \".csv\"\n",
        "labels_name = \"Kmeans_labels_k\" + str(num_centers) + \"_f\" + str(num_features) + \"_\" + str(num_samples) + \".csv\"\n",
        "dataset_name = \"Kmeans_dataset_k\" + str(num_centers) + \"_f\" + str(num_features) + \"_\" + str(num_samples) + \".csv\"\n",
        "centers_name = \"Kmeans_centers_k\" + str(num_centers) + \"_f\" + str(num_features) + \"_\" + str(num_samples) + \".csv\"\n",
        "initial_centers = \"Kmeans_initCenters_k\" + str(num_centers) + \"_f\" + str(num_features) + \"_\" + str(num_samples) + \".csv\""
      ],
      "execution_count": null,
      "outputs": []
    },
    {
      "cell_type": "code",
      "metadata": {
        "id": "S7B9YFPR6NFg",
        "colab": {
          "base_uri": "https://localhost:8080/",
          "height": 283
        },
        "outputId": "cb19704c-c4d5-46f6-efc0-7c5032d5d9fc"
      },
      "source": [
        "X, y, centers = make_blobs(n_samples=num_samples, centers=num_centers, n_features=num_features, cluster_std=0.8, shuffle=True, return_centers=True)\n",
        "plt.scatter(X[:, 0], X[:, 1], c=y)"
      ],
      "execution_count": null,
      "outputs": [
        {
          "output_type": "execute_result",
          "data": {
            "text/plain": [
              "<matplotlib.collections.PathCollection at 0x7fc5dfc5d278>"
            ]
          },
          "metadata": {
            "tags": []
          },
          "execution_count": 23
        },
        {
          "output_type": "display_data",
          "data": {
            "image/png": "[encoded data removed]",
            "text/plain": [
              "<Figure size 432x288 with 1 Axes>"
            ]
          },
          "metadata": {
            "tags": [],
            "needs_background": "light"
          }
        }
      ]
    },
    {
      "cell_type": "code",
      "metadata": {
        "id": "vm-_u66gFEbr"
      },
      "source": [
        "initCenters = []\n",
        "for m in range(num_centers):\n",
        "  initCenters.append(X[np.where(y==m)[0][0]])"
      ],
      "execution_count": null,
      "outputs": []
    },
    {
      "cell_type": "code",
      "metadata": {
        "id": "VJrIlKAm8VHU"
      },
      "source": [
        "np.savetxt(features_name, X, delimiter=\",\")\n",
        "np.savetxt(labels_name, y, delimiter=\",\")\n",
        "np.savetxt(initial_centers, initCenters, delimiter=\",\")\n",
        "y.reshape((-1, 1))\n",
        "output = np.column_stack((X,y))\n",
        "np.savetxt(dataset_name, output, delimiter=\",\")\n",
        "np.savetxt(centers_name, centers, delimiter=\",\")"
      ],
      "execution_count": null,
      "outputs": []
    }
  ]
}